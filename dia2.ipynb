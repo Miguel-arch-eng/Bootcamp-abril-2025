{
 "cells": [
  {
   "cell_type": "code",
   "execution_count": 20,
   "id": "e0c72b15",
   "metadata": {},
   "outputs": [
    {
     "name": "stdout",
     "output_type": "stream",
     "text": [
      "juguito nomas\n"
     ]
    }
   ],
   "source": [
    "##Escribo un programa que pregunte al usuario por su edad y si tiene edad suficiente para comprar y consumir alcohol\n",
    "edad = int (input (\"Ingresá tu edad mi cuate\"))\n",
    "if edad < 18:\n",
    "    print (\"juguito nomas\")\n",
    "elif edad >= 21 :\n",
    "    print ('Hace lo que queres kp') \n",
    "else:\n",
    "    print(\"Podes tomar pero no comprar\")\n",
    "\n",
    "\n",
    "\n",
    "    "
   ]
  },
  {
   "cell_type": "code",
   "execution_count": 23,
   "id": "bb27b538",
   "metadata": {},
   "outputs": [
    {
     "name": "stdout",
     "output_type": "stream",
     "text": [
      "La temperatura actual es-9grados\n",
      "Hace Fresquete\n"
     ]
    }
   ],
   "source": [
    "temperatura = int(input(\"Cual es la temperatura actual?\"))\n",
    "print(f'La temperatura actual es{temperatura}grados')\n",
    "if temperatura>-10 and temperatura<=18:\n",
    "    print('Hace Fresquete')\n",
    "elif temperatura>18 and temperatura <=30:\n",
    "    print ('Hace calor´i')\n",
    "elif temperatura > 30 and temperatura <= 45:\n",
    "    print ('Haku korochoooo')\n",
    "else: \n",
    "    print('namanó mbaé')\n",
    "\n"
   ]
  },
  {
   "cell_type": "code",
   "execution_count": 25,
   "id": "f53b1314",
   "metadata": {},
   "outputs": [
    {
     "name": "stdout",
     "output_type": "stream",
     "text": [
      "['uva', 'naranja', 'pitaya', 'sandia', 'ciruela']\n"
     ]
    }
   ],
   "source": [
    "Lista_frutas = ['uva' , 'naranja', 'pitaya', 'sandia','ciruela']\n",
    "#Cree una lista de cinco elementos\n",
    "Lista_numeros = [1,2,3,4,5]\n",
    "print (Lista_frutas)\n",
    "\n"
   ]
  },
  {
   "cell_type": "code",
   "execution_count": 33,
   "id": "d68a99c1",
   "metadata": {},
   "outputs": [
    {
     "name": "stdout",
     "output_type": "stream",
     "text": [
      "['uva', 'naranja', 'pitaya', 'sandia', 'ciruela', 'kiwi', 'kiwi']\n"
     ]
    }
   ],
   "source": [
    "Lista_frutas.append('kiwi')\n",
    "print (Lista_frutas)\n"
   ]
  },
  {
   "cell_type": "code",
   "execution_count": 36,
   "id": "c5392579",
   "metadata": {},
   "outputs": [
    {
     "name": "stdout",
     "output_type": "stream",
     "text": [
      "['uva', 'naranja', 'ciruela', 'kiwi', 'kiwi']\n"
     ]
    }
   ],
   "source": [
    "Lista_frutas.pop(2)\n",
    "\n",
    "print (Lista_frutas)\n",
    "\n"
   ]
  },
  {
   "cell_type": "code",
   "execution_count": 51,
   "id": "a1652a93",
   "metadata": {},
   "outputs": [
    {
     "name": "stdout",
     "output_type": "stream",
     "text": [
      "0\n",
      "2\n",
      "4\n",
      "6\n",
      "8\n",
      "10\n",
      "12\n",
      "14\n",
      "16\n",
      "18\n"
     ]
    }
   ],
   "source": [
    "##Escribi un programa que \"itere\" en un rango de 10 veces.Multiplicar el iterador por dos e imprimir el resultado\n",
    "tabla_del_2 = [1,2,3,4,5,6,7,8,9,10] \n",
    "for i in range (10):\n",
    "    print (i *2)\n"
   ]
  },
  {
   "cell_type": "code",
   "execution_count": 56,
   "id": "509d77fb",
   "metadata": {},
   "outputs": [
    {
     "name": "stdout",
     "output_type": "stream",
     "text": [
      "adidas\n",
      "reebook\n",
      "underamour\n",
      "rainha\n",
      "nike\n",
      "puma\n",
      "topper\n"
     ]
    }
   ],
   "source": [
    "lista_de_marcas = ['adidas', 'reebook', 'underamour', 'rainha', 'nike', 'puma', 'topper']\n",
    "for i in lista_de_marcas:\n",
    "    print (i)\n",
    "    \n"
   ]
  },
  {
   "cell_type": "code",
   "execution_count": 69,
   "id": "bf5f58a9",
   "metadata": {},
   "outputs": [
    {
     "name": "stdout",
     "output_type": "stream",
     "text": [
      "['adidas', 'reebook', 'underamour', 'rainha', 'nike', 'puma', 'topper']\n"
     ]
    }
   ],
   "source": [
    "if len (lista_de_marcas) >= 6:\n",
    "##imprimir solamente los correctos\n",
    "    print(lista_de_marcas)\n"
   ]
  }
 ],
 "metadata": {
  "kernelspec": {
   "display_name": ".venv",
   "language": "python",
   "name": "python3"
  },
  "language_info": {
   "codemirror_mode": {
    "name": "ipython",
    "version": 3
   },
   "file_extension": ".py",
   "mimetype": "text/x-python",
   "name": "python",
   "nbconvert_exporter": "python",
   "pygments_lexer": "ipython3",
   "version": "3.13.3"
  }
 },
 "nbformat": 4,
 "nbformat_minor": 5
}
