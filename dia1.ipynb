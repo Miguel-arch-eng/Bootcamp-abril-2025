{
 "cells": [
  {
   "cell_type": "code",
   "execution_count": 1,
   "id": "96710077",
   "metadata": {},
   "outputs": [
    {
     "name": "stdout",
     "output_type": "stream",
     "text": [
      "Hola mundo\n"
     ]
    }
   ],
   "source": [
    "print(\"Hola mundo\")\n"
   ]
  },
  {
   "cell_type": "code",
   "execution_count": 2,
   "id": "1e767324",
   "metadata": {},
   "outputs": [
    {
     "name": "stdout",
     "output_type": "stream",
     "text": [
      "11\n"
     ]
    }
   ],
   "source": [
    "#Asigno variables \n",
    "cantidad_de_manzanas = 5\n",
    "cantidad_de_naranjas = 6\n",
    "cantidad_de_frutas = cantidad_de_manzanas + cantidad_de_naranjas\n",
    "print (cantidad_de_frutas)\n",
    "\n"
   ]
  },
  {
   "cell_type": "code",
   "execution_count": 1,
   "id": "12bf98b2",
   "metadata": {},
   "outputs": [
    {
     "name": "stdout",
     "output_type": "stream",
     "text": [
      "7\n"
     ]
    }
   ],
   "source": [
    "numero1 = int(input('dame un numero')) \n",
    "numero2 = int(input(\"dame otro numero\"))\n",
    "suma = numero1 + numero2\n",
    "print(suma) \n"
   ]
  },
  {
   "cell_type": "code",
   "execution_count": null,
   "id": "567c4807",
   "metadata": {},
   "outputs": [
    {
     "name": "stdout",
     "output_type": "stream",
     "text": [
      "7\n"
     ]
    }
   ],
   "source": [
    "frutas_vendidas = 4\n",
    "frutas_restantes = cantidad_de_frutas - frutas_vendidas\n",
    "print (frutas_restantes)"
   ]
  },
  {
   "cell_type": "code",
   "execution_count": 1,
   "id": "e423fcc6",
   "metadata": {},
   "outputs": [
    {
     "name": "stdout",
     "output_type": "stream",
     "text": [
      "Hola.Me llamo Mathias Coronel. Mucho gusto\n"
     ]
    }
   ],
   "source": [
    "nombre = \"Mathias\"\n",
    "apellido = \"Coronel\"\n",
    "print (f\"Hola.Me llamo {nombre} {apellido}. Mucho gusto\")"
   ]
  },
  {
   "cell_type": "code",
   "execution_count": 2,
   "id": "aad052b7",
   "metadata": {},
   "outputs": [],
   "source": [
    "def preparar_ensalada_de_frutas():\n",
    "    print('Selecionar las frutas deseadas')\n",
    "    print('Lavar muy bien los ingredientes')\n",
    "    print('Cortar bien todas frutas')\n",
    "    print('Agregar azucar o edulcorante a gusto')\n",
    "    print('Servir a gusto')"
   ]
  },
  {
   "cell_type": "code",
   "execution_count": 4,
   "id": "b9f5b7d7",
   "metadata": {},
   "outputs": [
    {
     "name": "stdout",
     "output_type": "stream",
     "text": [
      "Selecionar las frutas deseadas\n",
      "Lavar muy bien los ingredientes\n",
      "Cortar bien todas frutas\n",
      "Agregar azucar o edulcorante a gusto\n",
      "Servir a gusto\n",
      "Selecionar las frutas deseadas\n",
      "Lavar muy bien los ingredientes\n",
      "Cortar bien todas frutas\n",
      "Agregar azucar o edulcorante a gusto\n",
      "Servir a gusto\n",
      "Selecionar las frutas deseadas\n",
      "Lavar muy bien los ingredientes\n",
      "Cortar bien todas frutas\n",
      "Agregar azucar o edulcorante a gusto\n",
      "Servir a gusto\n"
     ]
    }
   ],
   "source": [
    "preparar_ensalada_de_frutas()\n",
    "preparar_ensalada_de_frutas()\n",
    "preparar_ensalada_de_frutas()\n"
   ]
  },
  {
   "cell_type": "code",
   "execution_count": null,
   "id": "80e7d622",
   "metadata": {},
   "outputs": [],
   "source": []
  }
 ],
 "metadata": {
  "kernelspec": {
   "display_name": ".venv",
   "language": "python",
   "name": "python3"
  },
  "language_info": {
   "codemirror_mode": {
    "name": "ipython",
    "version": 3
   },
   "file_extension": ".py",
   "mimetype": "text/x-python",
   "name": "python",
   "nbconvert_exporter": "python",
   "pygments_lexer": "ipython3",
   "version": "3.13.3"
  }
 },
 "nbformat": 4,
 "nbformat_minor": 5
}
